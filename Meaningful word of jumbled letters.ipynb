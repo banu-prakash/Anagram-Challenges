{
 "cells": [
  {
   "cell_type": "markdown",
   "metadata": {},
   "source": [
    "###### Here we will try to find the proper words of a jumbled word \n",
    "###### That is trying to find the proper word of an anagram"
   ]
  },
  {
   "cell_type": "code",
   "execution_count": 4,
   "metadata": {
    "collapsed": true
   },
   "outputs": [],
   "source": [
    "from nltk.corpus import words\n",
    "import itertools"
   ]
  },
  {
   "cell_type": "code",
   "execution_count": 3,
   "metadata": {},
   "outputs": [
    {
     "name": "stdout",
     "output_type": "stream",
     "text": [
      "['pried', 'redip', 'pride']\n",
      "['commitment']\n",
      "['emotion', 'moonite']\n",
      "['dealership', 'leadership']\n",
      "['learning']\n",
      "['effort']\n",
      "['diversity']\n",
      "['inclusion']\n",
      "['safety']\n",
      "['copyman', 'company']\n",
      "['tinnet', 'intent']\n",
      "['advocacy']\n",
      "['balance']\n"
     ]
    }
   ],
   "source": [
    "my_list = [\"DIRPE\", \"TENMOCMITM\", \"ONEOTIM\", \"DAPISELHER\", \"NALREGIN\", \"FRETOF\", \"VYSIDREIT\", \"COSILNUNI\", \"TASFEY\", \"MYCANOP\", \"TENITN\", \"VOCADACY\", \"ENCABLA\"]\n",
    "\n",
    "for word in my_list:\n",
    "    word_list = sorted(list(set([\"\".join(perm) for perm in itertools.permutations(word.lower())])))\n",
    "    print(list(set(word_list).intersection(words.words())))"
   ]
  },
  {
   "cell_type": "markdown",
   "metadata": {},
   "source": [
    "##### Give your manual word"
   ]
  },
  {
   "cell_type": "code",
   "execution_count": 13,
   "metadata": {},
   "outputs": [
    {
     "name": "stdout",
     "output_type": "stream",
     "text": [
      "decemreb\n"
     ]
    }
   ],
   "source": [
    "input_word = input()"
   ]
  },
  {
   "cell_type": "code",
   "execution_count": 11,
   "metadata": {},
   "outputs": [
    {
     "name": "stdout",
     "output_type": "stream",
     "text": [
      "['meaning']\n"
     ]
    }
   ],
   "source": [
    "word_list = sorted(list(set([\"\".join(perm) for perm in itertools.permutations(input_word.lower())])))\n",
    "print(list(set(word_list).intersection(words.words())))"
   ]
  },
  {
   "cell_type": "markdown",
   "metadata": {},
   "source": [
    "###### Complete case insensitive"
   ]
  },
  {
   "cell_type": "code",
   "execution_count": 17,
   "metadata": {
    "collapsed": true
   },
   "outputs": [],
   "source": [
    "total_words = map(lambda x:x.lower(),words.words())"
   ]
  },
  {
   "cell_type": "code",
   "execution_count": 18,
   "metadata": {},
   "outputs": [
    {
     "name": "stdout",
     "output_type": "stream",
     "text": [
      "['december']\n"
     ]
    }
   ],
   "source": [
    "word_list = sorted(list(set([\"\".join(perm) for perm in itertools.permutations(input_word.lower())])))\n",
    "print(list(set(word_list).intersection(total_words)))"
   ]
  },
  {
   "cell_type": "code",
   "execution_count": null,
   "metadata": {
    "collapsed": true
   },
   "outputs": [],
   "source": []
  }
 ],
 "metadata": {
  "kernelspec": {
   "display_name": "Python 3",
   "language": "python",
   "name": "python3"
  },
  "language_info": {
   "codemirror_mode": {
    "name": "ipython",
    "version": 3
   },
   "file_extension": ".py",
   "mimetype": "text/x-python",
   "name": "python",
   "nbconvert_exporter": "python",
   "pygments_lexer": "ipython3",
   "version": "3.6.1"
  }
 },
 "nbformat": 4,
 "nbformat_minor": 2
}
